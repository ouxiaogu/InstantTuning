{
 "cells": [
  {
   "cell_type": "code",
   "execution_count": 10,
   "metadata": {
    "collapsed": false
   },
   "outputs": [
    {
     "name": "stdout",
     "output_type": "stream",
     "text": [
      "[0, 0, 0, 0, 0, 0, 0, 0, 0]\n",
      "[0, 0, 0, 0, 0, 0, 0, 0, 1]\n",
      "[0, 0, 0, 0, 0, 0, 0, 1, 0]\n",
      "[0, 0, 0, 0, 0, 0, 0, 1, 1]\n",
      "[0, 0, 0, 0, 0, 0, 1, 0, 0]\n",
      "[0, 0, 0, 0, 0, 0, 1, 0, 1]\n",
      "[0, 0, 0, 0, 0, 0, 1, 1, 0]\n",
      "[0, 0, 0, 0, 0, 0, 1, 1, 1]\n",
      "[0, 0, 0, 0, 0, 1, 0, 0, 0]\n",
      "[0, 0, 0, 0, 0, 1, 0, 0, 1]\n",
      "[0, 0, 0, 0, 0, 1, 0, 1, 0]\n",
      "[0, 0, 0, 0, 0, 1, 0, 1, 1]\n",
      "[0, 0, 0, 0, 0, 1, 1, 0, 0]\n",
      "[0, 0, 0, 0, 0, 1, 1, 0, 1]\n",
      "[0, 0, 0, 0, 0, 1, 1, 1, 0]\n",
      "[0, 0, 0, 0, 0, 1, 1, 1, 1]\n"
     ]
    }
   ],
   "source": [
    "def dec2bin(num=0, length=1):\n",
    "    binChar = bin(num)\n",
    "    binChar = list(binChar[2:]) # 15 -> '0b1111'\n",
    "    if len(binChar) < length:\n",
    "        binChar = ['0' for ii in range(length - len(binChar))] + binChar\n",
    "    binNum = [int(aa) for aa in binChar]\n",
    "    return binNum\n",
    "for i in range(16):\n",
    "    print dec2bin(i, 9)\n"
   ]
  },
  {
   "cell_type": "code",
   "execution_count": 11,
   "metadata": {
    "collapsed": false
   },
   "outputs": [
    {
     "name": "stdout",
     "output_type": "stream",
     "text": [
      "[1, 2, 3, 4, 5, 16, 17, 18, 19, 20, 21, 22, 23, 24, 25, 26, 27, 28, 29] [11, 12, 13, 14, 15, 6, 7, 8, 9]\n"
     ]
    }
   ],
   "source": [
    "A = range(1, 10)\n",
    "B = range(11, 30)\n",
    "\n",
    "newA = A[:5]+B[5:]\n",
    "newB = B[:5]+A[5:]\n",
    "print newA, newB"
   ]
  },
  {
   "cell_type": "code",
   "execution_count": 4,
   "metadata": {
    "collapsed": false
   },
   "outputs": [
    {
     "name": "stdout",
     "output_type": "stream",
     "text": [
      "b0_Bp1\n",
      "b1_Bp2\n",
      "2 sigma1_Bp1\n",
      "2 sigma2_MGS_dev\n",
      "b0Bp2\n"
     ]
    }
   ],
   "source": [
    "import re\n",
    "a = ['b0_Bp1', 'b1_Bp2', 'sigma1_Bp1', 'sigma2_MGS_dev', 'b0Bp2', 'sigma2D_MGS_dev']\n",
    "for aa in a:\n",
    "    if re.match(r'b[0-9]*[-_AaBbPp0-9]*', aa):\n",
    "        print aa\n",
    "    if (re.match(r'sigma[\\S]*', aa)) and (not re.match(r'sigma2D[\\S]*', aa)):\n",
    "        print 2, aa"
   ]
  },
  {
   "cell_type": "code",
   "execution_count": 6,
   "metadata": {
    "collapsed": false
   },
   "outputs": [
    {
     "name": "stdout",
     "output_type": "stream",
     "text": [
      "a b\n"
     ]
    }
   ],
   "source": [
    "a, b = ('a', 'b')\n",
    "print a, b"
   ]
  },
  {
   "cell_type": "code",
   "execution_count": 12,
   "metadata": {
    "collapsed": false
   },
   "outputs": [
    {
     "name": "stdout",
     "output_type": "stream",
     "text": [
      "{'Slope': (0.0, 0.0), 'Bn': (30.0, 0.10000000000000001), 'Am': (30.0, 1.7), 'Ap': (30.0, 0.69999999999999996), 'MG1': (30.0, 0.0), 'Bp': (30.0, 0.69999999999999996), 'AG2': (50.0, 0.0), 'AG1': (0.0, 0.0)}\n",
      "{'Slope': (0.0, 0.0), 'Bn': (300.0, 0.5), 'Am': (300.0, 1.8999999999999999), 'Ap': (300.0, 1.5), 'MG1': (300.0, 0.0), 'Bp': (300.0, 1.5), 'AG2': (300.0, 0.0), 'AG1': (20.0, 0.0)}\n"
     ]
    }
   ],
   "source": [
    "import random\n",
    "import math\n",
    "import copy\n",
    "import re\n",
    "import pandas as pd\n",
    "import os, os.path\n",
    "\n",
    "def gen_term_pairs(selectedTerms, parmNames):\n",
    "    # return a table of search param name and (sigmaVal, truncation level), e.g., 'Ap': sigmaAp, b0_ratio\n",
    "    termpairs = {}\n",
    "    noneSigmaTerm = {\"A\", \"Mav\", \"Slope\"}\n",
    "\n",
    "    sigmaParms = [aa for aa in parmNames if re.match(r'sigma[\\S]*', aa) and (not re.match(r'sigma2D[\\S]*', aa))]\n",
    "    truncRatioParms = [aa for aa in parmNames if re.match(r'b[0-9]*[-_AaBbPp0-9]*', aa)]\n",
    "\n",
    "    fixedTermPairs = {\"Ap\": \"b0_ratio\", \"Bp\": \"b0_ratio\", \"Am\": \"b0m_ratio\", \"Bn\": \"b0n_ratio\"}\n",
    "\n",
    "    for curTerm in selectedTerms:\n",
    "        curSigma = \"\"\n",
    "        curTruncRatio = \"\"\n",
    "        if curTerm not in noneSigmaTerm:\n",
    "            if curTerm in fixedTermPairs.keys():\n",
    "                curSigma = r'sigma{}'.format(curTerm)\n",
    "                curTruncRatio = fixedTermPairs[curTerm]\n",
    "            else:\n",
    "                for sigmaName in sigmaParms:\n",
    "                    if curTerm in sigmaName:\n",
    "                        curSigma = sigmaName\n",
    "                        break\n",
    "                for truncRatio in truncRatioParms:\n",
    "                    if curTerm in truncRatio:\n",
    "                        curTruncRatio = truncRatio\n",
    "                        break\n",
    "        termpairs[curTerm] = (curSigma, curTruncRatio)\n",
    "    return termpairs\n",
    "\n",
    "def covert_job_parms(termpairs, jobparms):\n",
    "    '''\n",
    "    termpairs: all the resist terms and its components, PRS is not supported yet\n",
    "    jobparms: table of search param name and value\n",
    "    return a table of search param name and (sigmaVal, truncation level), e.g., 'Ap': 30, 1.2\n",
    "    '''\n",
    "    jobinputs = {}\n",
    "    for curTerm, val in termpairs.items():\n",
    "        curSigmaName, curTruncRatioName = val\n",
    "        curSigmaVal = 0.\n",
    "        curTruncRatioVal = 0.\n",
    "        if curSigmaName != \"\":\n",
    "            assert(curSigmaName in jobparms.keys())\n",
    "            curSigmaVal = jobparms[curSigmaName]\n",
    "        if curTruncRatioName != \"\":\n",
    "            assert(curTruncRatioName in jobparms.keys())\n",
    "            curTruncRatioVal = jobparms[curTruncRatioName]\n",
    "        jobinputs[curTerm] = (curSigmaVal, curTruncRatioVal)\n",
    "    return jobinputs\n",
    "\n",
    "if __name__ == \"__main__\":\n",
    "    cwd = os.getcwd()\n",
    "    infile = os.path.join(cwd, \"GA_init_setting.xlsx\")\n",
    "    df = pd.read_excel(infile)\n",
    "\n",
    "    parmMin = df[['parmName', 'parmMin']].set_index('parmName').to_dict().values()[0]\n",
    "    parmMax = df[['parmName', 'parmMax']].set_index('parmName').to_dict().values()[0]\n",
    "\n",
    "    useterms = ['AG1', 'AG2', 'Ap', 'Bp', 'Am', 'Bn', 'MG1', 'Slope']\n",
    "    termpairs = gen_term_pairs(useterms, parmMin)\n",
    "    for jobparms in [parmMin, parmMax]:\n",
    "        print covert_job_parms(termpairs, jobparms)"
   ]
  },
  {
   "cell_type": "code",
   "execution_count": 31,
   "metadata": {
    "collapsed": false
   },
   "outputs": [
    {
     "name": "stdout",
     "output_type": "stream",
     "text": [
      "[ 0.2         0.27096774  0.34193548  0.41290323  0.48387097  0.55483871\n",
      "  0.62580645  0.69677419  0.76774194  0.83870968  0.90967742  0.98064516\n",
      "  1.0516129   1.12258065  1.19354839  1.26451613  1.33548387  1.40645161\n",
      "  1.47741935  1.5483871   1.61935484  1.69032258  1.76129032  1.83225806\n",
      "  1.90322581  1.97419355  2.04516129  2.11612903  2.18709677  2.25806452\n",
      "  2.32903226  2.4       ] 32\n",
      "[ 0.2   0.75  1.3   1.85  2.4 ]\n",
      "[ 0.2         0.27096774  0.34193548  0.41290322  0.48387097  0.55483871\n",
      "  0.62580645  0.69677419]\n",
      "[ 1.90322581  1.97419355  2.04516129  2.11612903  2.18709678  2.25806452\n",
      "  2.32903226  2.4       ]\n",
      "\n",
      "\n",
      "[ 0.2   0.75  1.3   1.85  2.4 ]\n",
      "[  0.           0.64516129   1.29032258   1.93548387   2.58064516\n",
      "   3.22580645   3.87096774   4.51612903   5.16129032   5.80645161\n",
      "   6.4516129    7.09677419   7.74193548   8.38709677   9.03225806\n",
      "   9.67741935  10.32258065  10.96774194  11.61290323  12.25806452\n",
      "  12.90322581  13.5483871   14.19354839  14.83870968  15.48387097\n",
      "  16.12903226  16.77419355  17.41935484  18.06451613  18.70967742\n",
      "  19.35483871  20.        ]\n",
      "[  50.           52.38095238   54.76190476   57.14285714   59.52380952\n",
      "   61.9047619    64.28571429   66.66666667   69.04761905   71.42857143\n",
      "   73.80952381   76.19047619   78.57142857   80.95238095   83.33333333\n",
      "   85.71428571   88.0952381    90.47619048   92.85714286   95.23809524\n",
      "   97.61904762  100.          102.38095238  104.76190476  107.14285714\n",
      "  109.52380952  111.9047619   114.28571429  116.66666667  119.04761905\n",
      "  121.42857143  123.80952381  126.19047619  128.57142857  130.95238095\n",
      "  133.33333333  135.71428571  138.0952381   140.47619048  142.85714286\n",
      "  145.23809524  147.61904762  150.          152.38095238  154.76190476\n",
      "  157.14285714  159.52380952  161.9047619   164.28571429  166.66666667\n",
      "  169.04761905  171.42857143  173.80952381  176.19047619  178.57142857\n",
      "  180.95238095  183.33333333  185.71428571  188.0952381   190.47619048\n",
      "  192.85714286  195.23809524  197.61904762  200.        ]\n"
     ]
    }
   ],
   "source": [
    "# linspace samples\n",
    "import numpy as np\n",
    "a=np.linspace(0.2, 2.4, 32)\n",
    "print a, len(a)\n",
    "print np.linspace(0.2, 2.4, 5)\n",
    "print np.linspace(0.2, 0.69677419, 8)\n",
    "print np.linspace(1.90322581, 2.4, 8)\n",
    "print \"\\n\"\n",
    "\n",
    "print np.linspace(0.2, 2.4, 5)\n",
    "print np.linspace(0, 20, 32)\n",
    "print np.linspace(50, 200, 64)"
   ]
  },
  {
   "cell_type": "code",
   "execution_count": 32,
   "metadata": {
    "collapsed": false
   },
   "outputs": [
    {
     "name": "stdout",
     "output_type": "stream",
     "text": [
      "44\n"
     ]
    }
   ],
   "source": [
    "import random\n",
    "print random.randint(0, 99)"
   ]
  },
  {
   "cell_type": "code",
   "execution_count": 38,
   "metadata": {
    "collapsed": false
   },
   "outputs": [
    {
     "name": "stdout",
     "output_type": "stream",
     "text": [
      "0\n",
      "1\n",
      "3\n",
      "6\n",
      "10\n",
      "15\n",
      "21\n",
      "28\n",
      "36\n",
      "45\n"
     ]
    }
   ],
   "source": [
    "import numpy as np\n",
    "a =  range(10)\n",
    "acculumatedLen = lambda x,y: np.sum(x[0:y+1])\n",
    "for ii, vv in enumerate(a):\n",
    "    print acculumatedLen(a, ii)"
   ]
  },
  {
   "cell_type": "code",
   "execution_count": null,
   "metadata": {
    "collapsed": true
   },
   "outputs": [],
   "source": []
  }
 ],
 "metadata": {
  "kernelspec": {
   "display_name": "Python 2",
   "language": "python",
   "name": "python2"
  },
  "language_info": {
   "codemirror_mode": {
    "name": "ipython",
    "version": 2
   },
   "file_extension": ".py",
   "mimetype": "text/x-python",
   "name": "python",
   "nbconvert_exporter": "python",
   "pygments_lexer": "ipython2",
   "version": "2.7.12"
  }
 },
 "nbformat": 4,
 "nbformat_minor": 0
}
