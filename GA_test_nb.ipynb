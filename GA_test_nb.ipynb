{
 "cells": [
  {
   "cell_type": "code",
   "execution_count": null,
   "metadata": {
    "collapsed": false
   },
   "outputs": [],
   "source": [
    "def dec2bin(num=0, length=1):\n",
    "    binChar = bin(num)\n",
    "    binChar = list(binChar[2:]) # 15 -> '0b1111'\n",
    "    if len(binChar) < length:\n",
    "        binChar = ['0' for ii in range(length - len(binChar))] + binChar\n",
    "    binNum = [int(aa) for aa in binChar]\n",
    "    return binNum\n",
    "for i in range(16):\n",
    "    print dec2bin(i, 9)\n"
   ]
  },
  {
   "cell_type": "code",
   "execution_count": null,
   "metadata": {
    "collapsed": false
   },
   "outputs": [],
   "source": [
    "A = range(1, 10)\n",
    "B = range(11, 30)\n",
    "\n",
    "newA = A[:5]+B[5:]\n",
    "newB = B[:5]+A[5:]\n",
    "print newA, newB"
   ]
  },
  {
   "cell_type": "code",
   "execution_count": null,
   "metadata": {
    "collapsed": false
   },
   "outputs": [],
   "source": [
    "import re\n",
    "a = ['b0_Bp1', 'b1_Bp2', 'sigma1_Bp1', 'sigma2_MGS_dev', 'b0Bp2', 'sigma2D_MGS_dev']\n",
    "for aa in a:\n",
    "    if re.match(r'b[0-9]*[-_AaBbPp0-9]*', aa):\n",
    "        print aa\n",
    "    if (re.match(r'sigma[\\S]*', aa)) and (not re.match(r'sigma2D[\\S]*', aa)):\n",
    "        print 2, aa"
   ]
  },
  {
   "cell_type": "code",
   "execution_count": null,
   "metadata": {
    "collapsed": false
   },
   "outputs": [],
   "source": [
    "a, b = ('a', 'b')\n",
    "print a, b"
   ]
  },
  {
   "cell_type": "code",
   "execution_count": null,
   "metadata": {
    "collapsed": false
   },
   "outputs": [],
   "source": [
    "import random\n",
    "import math\n",
    "import copy\n",
    "import re\n",
    "import pandas as pd\n",
    "import os, os.path\n",
    "\n",
    "def gen_term_pairs(selectedTerms, parmNames):\n",
    "    # return a table of search param name and (sigmaVal, truncation level), e.g., 'Ap': sigmaAp, b0_ratio\n",
    "    termpairs = {}\n",
    "    noneSigmaTerm = {\"A\", \"Mav\", \"Slope\"}\n",
    "\n",
    "    sigmaParms = [aa for aa in parmNames if re.match(r'sigma[\\S]*', aa) and (not re.match(r'sigma2D[\\S]*', aa))]\n",
    "    truncRatioParms = [aa for aa in parmNames if re.match(r'b[0-9]*[-_AaBbPp0-9]*', aa)]\n",
    "\n",
    "    fixedTermPairs = {\"Ap\": \"b0_ratio\", \"Bp\": \"b0_ratio\", \"Am\": \"b0m_ratio\", \"Bn\": \"b0n_ratio\"}\n",
    "\n",
    "    for curTerm in selectedTerms:\n",
    "        curSigma = \"\"\n",
    "        curTruncRatio = \"\"\n",
    "        if curTerm not in noneSigmaTerm:\n",
    "            if curTerm in fixedTermPairs.keys():\n",
    "                curSigma = r'sigma{}'.format(curTerm)\n",
    "                curTruncRatio = fixedTermPairs[curTerm]\n",
    "            else:\n",
    "                for sigmaName in sigmaParms:\n",
    "                    if curTerm in sigmaName:\n",
    "                        curSigma = sigmaName\n",
    "                        break\n",
    "                for truncRatio in truncRatioParms:\n",
    "                    if curTerm in truncRatio:\n",
    "                        curTruncRatio = truncRatio\n",
    "                        break\n",
    "        termpairs[curTerm] = (curSigma, curTruncRatio)\n",
    "    return termpairs\n",
    "\n",
    "def covert_job_parms(termpairs, jobparms):\n",
    "    '''\n",
    "    termpairs: all the resist terms and its components, PRS is not supported yet\n",
    "    jobparms: table of search param name and value\n",
    "    return a table of search param name and (sigmaVal, truncation level), e.g., 'Ap': 30, 1.2\n",
    "    '''\n",
    "    jobinputs = {}\n",
    "    for curTerm, val in termpairs.items():\n",
    "        curSigmaName, curTruncRatioName = val\n",
    "        curSigmaVal = 0.\n",
    "        curTruncRatioVal = 0.\n",
    "        if curSigmaName != \"\":\n",
    "            assert(curSigmaName in jobparms.keys())\n",
    "            curSigmaVal = jobparms[curSigmaName]\n",
    "        if curTruncRatioName != \"\":\n",
    "            assert(curTruncRatioName in jobparms.keys())\n",
    "            curTruncRatioVal = jobparms[curTruncRatioName]\n",
    "        jobinputs[curTerm] = (curSigmaVal, curTruncRatioVal)\n",
    "    return jobinputs\n",
    "\n",
    "if __name__ == \"__main__\":\n",
    "    cwd = os.getcwd()\n",
    "    infile = os.path.join(cwd, \"GA_init_setting.xlsx\")\n",
    "    df = pd.read_excel(infile)\n",
    "\n",
    "    parmMin = df[['parmName', 'parmMin']].set_index('parmName').to_dict().values()[0]\n",
    "    parmMax = df[['parmName', 'parmMax']].set_index('parmName').to_dict().values()[0]\n",
    "\n",
    "    useterms = ['AG1', 'AG2', 'Ap', 'Bp', 'Am', 'Bn', 'MG1', 'Slope']\n",
    "    termpairs = gen_term_pairs(useterms, parmMin)\n",
    "    for jobparms in [parmMin, parmMax]:\n",
    "        print covert_job_parms(termpairs, jobparms)"
   ]
  },
  {
   "cell_type": "code",
   "execution_count": null,
   "metadata": {
    "collapsed": false
   },
   "outputs": [],
   "source": [
    "# linspace samples\n",
    "import numpy as np\n",
    "a=np.linspace(0.2, 2.4, 32)\n",
    "print a, len(a)\n",
    "print np.linspace(0.2, 2.4, 5)\n",
    "print np.linspace(0.2, 0.69677419, 8)\n",
    "print np.linspace(1.90322581, 2.4, 8)\n",
    "print \"\\n\"\n",
    "\n",
    "print np.linspace(0.2, 2.4, 5)\n",
    "print np.linspace(0, 20, 32)\n",
    "print np.linspace(50, 200, 64)"
   ]
  },
  {
   "cell_type": "code",
   "execution_count": null,
   "metadata": {
    "collapsed": false
   },
   "outputs": [],
   "source": [
    "import random\n",
    "print random.randint(0, 99)"
   ]
  },
  {
   "cell_type": "code",
   "execution_count": null,
   "metadata": {
    "collapsed": false
   },
   "outputs": [],
   "source": [
    "import numpy as np\n",
    "a =  range(10)\n",
    "acculumatedLen = lambda x,y: np.sum(x[0:y+1])\n",
    "for ii, vv in enumerate(a):\n",
    "    print acculumatedLen(a, ii)"
   ]
  },
  {
   "cell_type": "code",
   "execution_count": null,
   "metadata": {
    "collapsed": false
   },
   "outputs": [],
   "source": [
    "# test weighted random choice\n",
    "## test linear ranking selection\n",
    "import numpy as np\n",
    "from numpy import random\n",
    "# draw = choice(list_of_candidates, number_of_items_to_pick, p=probability_distribution)\n",
    "random.seed(0)\n",
    "rms = [round(random.random(), 3) for i in range(10)]\n",
    "print rms\n",
    "ascendingIndice  = np.argsort(rms)\n",
    "descendingIndice = ascendingIndice[::-1]\n",
    "print ascendingIndice\n",
    "print descendingIndice\n",
    "singleNum = len(rms)\n",
    "sp = 1.5 # 1<sp<2, selection pressure, prob of selecting best compared to average\n",
    "fitness = lambda x: 2 - sp + 2.*(sp-1)*x/(singleNum-1)\n",
    "\n",
    "props = [0. for ii in range(singleNum)]\n",
    "for ii, jj in enumerate(descendingIndice):\n",
    "    print jj, fitness(ii)\n",
    "    props[jj] = fitness(ii) # the probability in loc jj is by a portion of ii \n",
    "sumFitness = sum(props)\n",
    "props = [1.*x/sumFitness for x in props]\n",
    "\n",
    "# propDistrubution = [fitness(ii) for ii in descendingIndice]\n",
    "\n",
    "# print propDistrubution\n",
    "\n",
    "random.seed(0)\n",
    "draw = random.choice(rms, 5, p=props, replace=False)\n",
    "print draw\n",
    "random.seed(0)\n",
    "draw = choice(range(singleNum), 5, p=props, replace=False)\n",
    "print draw"
   ]
  },
  {
   "cell_type": "code",
   "execution_count": 17,
   "metadata": {
    "collapsed": false
   },
   "outputs": [
    {
     "name": "stdout",
     "output_type": "stream",
     "text": [
      "[]\n",
      "[2]\n",
      "[2, 4]\n",
      "[2, 4, 3]\n",
      "[2, 4, 3, 5]\n",
      "[2, 4, 3, 5, 1]\n",
      "[2, 4, 3, 5, 1, 9]\n",
      "[2, 4, 3, 5, 1, 9, 7]\n",
      "[2, 4, 3, 5, 1, 9, 7, 0]\n",
      "[2, 4, 3, 5, 1, 9, 7, 0, 6]\n",
      "[2, 4, 3, 5, 1, 9, 7, 0, 6, 8]\n"
     ]
    },
    {
     "ename": "AssertionError",
     "evalue": "",
     "output_type": "error",
     "traceback": [
      "\u001b[1;31m---------------------------------------------------------------------------\u001b[0m",
      "\u001b[1;31mAssertionError\u001b[0m                            Traceback (most recent call last)",
      "\u001b[1;32m<ipython-input-17-baf195639d7f>\u001b[0m in \u001b[0;36m<module>\u001b[1;34m()\u001b[0m\n\u001b[0;32m     34\u001b[0m \u001b[1;32mfor\u001b[0m \u001b[0mi\u001b[0m \u001b[1;32min\u001b[0m \u001b[0mrange\u001b[0m\u001b[1;33m(\u001b[0m\u001b[1;36m12\u001b[0m\u001b[1;33m)\u001b[0m\u001b[1;33m:\u001b[0m\u001b[1;33m\u001b[0m\u001b[0m\n\u001b[0;32m     35\u001b[0m     \u001b[0mrandom\u001b[0m\u001b[1;33m.\u001b[0m\u001b[0mseed\u001b[0m\u001b[1;33m(\u001b[0m\u001b[1;36m0\u001b[0m\u001b[1;33m)\u001b[0m\u001b[1;33m\u001b[0m\u001b[0m\n\u001b[1;32m---> 36\u001b[1;33m     \u001b[1;32mprint\u001b[0m \u001b[0mtournament\u001b[0m\u001b[1;33m(\u001b[0m\u001b[0mrmses\u001b[0m\u001b[1;33m,\u001b[0m \u001b[0mrange\u001b[0m\u001b[1;33m(\u001b[0m\u001b[0msingleNum\u001b[0m\u001b[1;33m)\u001b[0m\u001b[1;33m,\u001b[0m \u001b[0mi\u001b[0m\u001b[1;33m,\u001b[0m \u001b[1;36m2\u001b[0m\u001b[1;33m)\u001b[0m\u001b[1;33m\u001b[0m\u001b[0m\n\u001b[0m",
      "\u001b[1;32m<ipython-input-17-baf195639d7f>\u001b[0m in \u001b[0;36mtournament\u001b[1;34m(rmses, singlepool, tagetSize, tourSize)\u001b[0m\n\u001b[0;32m      8\u001b[0m \u001b[1;33m\u001b[0m\u001b[0m\n\u001b[0;32m      9\u001b[0m \u001b[1;32mdef\u001b[0m \u001b[0mtournament\u001b[0m\u001b[1;33m(\u001b[0m\u001b[0mrmses\u001b[0m\u001b[1;33m,\u001b[0m \u001b[0msinglepool\u001b[0m\u001b[1;33m,\u001b[0m \u001b[0mtagetSize\u001b[0m\u001b[1;33m,\u001b[0m \u001b[0mtourSize\u001b[0m \u001b[1;33m=\u001b[0m \u001b[1;36m2\u001b[0m\u001b[1;33m)\u001b[0m\u001b[1;33m:\u001b[0m\u001b[1;33m\u001b[0m\u001b[0m\n\u001b[1;32m---> 10\u001b[1;33m     \u001b[1;32massert\u001b[0m\u001b[1;33m(\u001b[0m\u001b[0mtagetSize\u001b[0m \u001b[1;33m<=\u001b[0m \u001b[0mlen\u001b[0m\u001b[1;33m(\u001b[0m\u001b[0msinglepool\u001b[0m\u001b[1;33m)\u001b[0m\u001b[1;33m)\u001b[0m\u001b[1;33m\u001b[0m\u001b[0m\n\u001b[0m\u001b[0;32m     11\u001b[0m     \u001b[1;32mif\u001b[0m \u001b[0mtagetSize\u001b[0m \u001b[1;33m==\u001b[0m \u001b[1;36m0\u001b[0m\u001b[1;33m:\u001b[0m\u001b[1;33m\u001b[0m\u001b[0m\n\u001b[0;32m     12\u001b[0m         \u001b[1;32mreturn\u001b[0m \u001b[1;33m[\u001b[0m\u001b[1;33m]\u001b[0m\u001b[1;33m\u001b[0m\u001b[0m\n",
      "\u001b[1;31mAssertionError\u001b[0m: "
     ]
    }
   ],
   "source": [
    "## test recursive tournament selection\n",
    "import numpy as np\n",
    "from numpy import random\n",
    "random.seed(0)\n",
    "rmses = [round(random.random(), 3) for i in range(10)]\n",
    "singleNum = len(rmses)\n",
    "concatList = lambda(x, y): x+y[:]\n",
    "\n",
    "def tournament(rmses, singlepool, tagetSize, tourSize = 2):\n",
    "    assert(tagetSize <= len(singlepool))\n",
    "    if tagetSize == 0:\n",
    "        return []\n",
    "    if len(singlepool) < tourSize:\n",
    "        return singlepool\n",
    "    draw = random.choice(singlepool, tourSize, replace=False)\n",
    "#     print 'Singlepool: %s, single rms: %s\\n' % (str(singlepool), str([rmses[ii] for ii in singlepool]))\n",
    "    \n",
    "    drawRmses = [rmses[ii] for ii in draw]\n",
    "    winneNo = np.argsort(drawRmses)[0]\n",
    "    winner = draw[winneNo]\n",
    "#     print 'draw: %s, draw rms: %s, winner: %s\\n' % (str(draw), str(drawRmses), str(winner))\n",
    "    \n",
    "    # append winnerIdx into matepool, and remove it from singlepool\n",
    "    tagetSize -= 1\n",
    "    \n",
    "#     print 'matepool: ' + str(matepool)\n",
    "    try:\n",
    "        winnerIdx = singlepool.index(winner)\n",
    "        del singlepool[winnerIdx] \n",
    "    except ValueError:\n",
    "        raise ValueError('The winner {} is not in pre-defined list: {}'.fromat(winner, singlepool))\n",
    "    return [winner]+tournament(rmses, singlepool, tagetSize, tourSize)[:]    \n",
    "\n",
    "for i in range(12):\n",
    "    random.seed(0)\n",
    "    print tournament(rmses, range(singleNum), i, 2)"
   ]
  },
  {
   "cell_type": "code",
   "execution_count": 9,
   "metadata": {
    "collapsed": false
   },
   "outputs": [
    {
     "name": "stdout",
     "output_type": "stream",
     "text": [
      "[0.646, 0.892, 0.438, 0.646, 0.545]\n"
     ]
    }
   ],
   "source": [
    "x = [0.383, 0.424, 0.438, 0.545, 0.549, 0.603, 0.646, 0.715, 0.892, 0.964]\n",
    "y = [ 0.646,  0.892,  0.438,  0.646,  0.545]\n",
    "z = []\n",
    "w = y+z[:]\n",
    "print w"
   ]
  },
  {
   "cell_type": "code",
   "execution_count": null,
   "metadata": {
    "collapsed": true
   },
   "outputs": [],
   "source": []
  }
 ],
 "metadata": {
  "kernelspec": {
   "display_name": "Python 2",
   "language": "python",
   "name": "python2"
  },
  "language_info": {
   "codemirror_mode": {
    "name": "ipython",
    "version": 2
   },
   "file_extension": ".py",
   "mimetype": "text/x-python",
   "name": "python",
   "nbconvert_exporter": "python",
   "pygments_lexer": "ipython2",
   "version": "2.7.12"
  }
 },
 "nbformat": 4,
 "nbformat_minor": 0
}
